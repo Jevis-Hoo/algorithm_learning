{
 "cells": [
  {
   "cell_type": "code",
   "execution_count": 1,
   "metadata": {
    "collapsed": true,
    "pycharm": {
     "is_executing": false
    }
   },
   "outputs": [],
   "source": [
    "import threading\n",
    "from queue import Queue\n",
    "import time\n",
    "import random\n",
    "\n"
   ]
  },
  {
   "cell_type": "code",
   "execution_count": 2,
   "metadata": {
    "collapsed": false,
    "pycharm": {
     "name": "#%%\n",
     "is_executing": false
    }
   },
   "outputs": [],
   "source": [
    "class Bank(threading.Thread):\n",
    "    def __init__(self, max_num):\n",
    "        threading.Thread.__init__(self)\n",
    "        self.max_num = max_num\n",
    "\n",
    "    def run(self):\n",
    "        for i in range(self.max_num):\n",
    "            print(threading.current_thread(), i, '\\n')\n",
    "            time.sleep(random.randint(0, 3))\n"
   ]
  },
  {
   "cell_type": "code",
   "execution_count": 3,
   "metadata": {
    "collapsed": false,
    "pycharm": {
     "name": "#%%\n",
     "is_executing": false
    }
   },
   "outputs": [
    {
     "name": "stdout",
     "text": [
      "<Bank(Thread-6, started 12904)> 0 \n",
      "\n",
      "<Bank(Thread-7, started 12864)> <Bank(Thread-8, started 11676)> 0 \n",
      "\n",
      "0 \n",
      "\n",
      "<Bank(Thread-6, started 12904)> 1 \n",
      "\n",
      "<Bank(Thread-6, started 12904)> 2 \n",
      "\n",
      "<Bank(Thread-8, started 11676)> 1 \n",
      "\n",
      "<Bank(Thread-8, started 11676)> 2 \n",
      "\n",
      "<Bank(Thread-7, started 12864)><Bank(Thread-8, started 11676)> 1 \n",
      "\n",
      " 3 \n",
      "\n",
      "<Bank(Thread-6, started 12904)> 3 \n",
      "\n",
      "<Bank(Thread-7, started 12864)><Bank(Thread-8, started 11676)> 2 \n",
      "\n",
      " 4 \n",
      "\n",
      "<Bank(Thread-6, started 12904)> 4 \n",
      "\n",
      "<Bank(Thread-7, started 12864)> 3 \n",
      "\n",
      "<Bank(Thread-7, started 12864)> 4 \n",
      "\n"
     ],
     "output_type": "stream"
    }
   ],
   "source": [
    "threads = []\n",
    "\n",
    "for _ in range(3):\n",
    "    t = Bank(5)\n",
    "    # 把实例加入列表\n",
    "    threads.append(t)\n",
    "\n",
    "for thr in threads:\n",
    "    # 调用start方法 使线程运行\n",
    "    thr.start()\n",
    "\n",
    "for thr in threads:\n",
    "    if thr.isAlive():\n",
    "        thr.join()\n"
   ]
  }
 ],
 "metadata": {
  "kernelspec": {
   "name": "python3",
   "language": "python",
   "display_name": "Python 3"
  },
  "language_info": {
   "codemirror_mode": {
    "name": "ipython",
    "version": 2
   },
   "file_extension": ".py",
   "mimetype": "text/x-python",
   "name": "python",
   "nbconvert_exporter": "python",
   "pygments_lexer": "ipython2",
   "version": "2.7.6"
  },
  "pycharm": {
   "stem_cell": {
    "cell_type": "raw",
    "source": [],
    "metadata": {
     "collapsed": false
    }
   }
  }
 },
 "nbformat": 4,
 "nbformat_minor": 0
}